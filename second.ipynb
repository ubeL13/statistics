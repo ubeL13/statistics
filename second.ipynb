{
 "cells": [
  {
   "cell_type": "code",
   "id": "initial_id",
   "metadata": {
    "collapsed": true,
    "jupyter": {
     "is_executing": true
    }
   },
   "source": [
    "import numpy as np\n",
    "import scipy.stats as stats\n",
    "import matplotlib.pyplot as plt\n",
    "\n",
    "# Параметры\n",
    "a = 3\n",
    "sigma = 1\n",
    "gamma = 0.99\n",
    "n = 10\n",
    "M = 2000\n",
    "K = 120\n",
    "\n",
    "# Шаг 1: Смоделировать выборку из n независимых наблюдений над случайной величиной X\n",
    "X = np.random.normal(a, sigma, n)"
   ],
   "outputs": [],
   "execution_count": null
  },
  {
   "metadata": {},
   "cell_type": "code",
   "outputs": [],
   "execution_count": null,
   "source": [
    "z_value = stats.norm.ppf(1 - (1 - gamma) / 2)\n",
    "mean_X = np.mean(X)\n",
    "conf_interval_known_sigma = (mean_X - z_value * sigma / np.sqrt(n), mean_X + z_value * sigma / np.sqrt(n))\n",
    "\n",
    "print(\"Интервальная оценка для математического ожидания X (известная дисперсия, формулы):\", conf_interval_known_sigma)"
   ],
   "id": "dcb9adec034190"
  },
  {
   "metadata": {},
   "cell_type": "code",
   "outputs": [],
   "execution_count": null,
   "source": [
    "conf_interval_known_sigma_scipy = stats.norm.interval(alpha=gamma, loc=mean_X, scale=sigma/np.sqrt(n))\n",
    "print(\"Интервальная оценка для математического ожидания X (известная дисперсия, scipy):\", conf_interval_known_sigma_scipy)"
   ],
   "id": "1a945d9495570e6b"
  },
  {
   "metadata": {},
   "cell_type": "markdown",
   "source": "1.2. Интервальная оценка для математического ожидания X при неизвестной дисперсии",
   "id": "ee83965a3312740b"
  },
  {
   "metadata": {},
   "cell_type": "code",
   "outputs": [],
   "execution_count": null,
   "source": [
    "t_value = stats.t.ppf(1 - (1 - gamma) / 2, df=n-1)\n",
    "std_X = np.std(X, ddof=1)\n",
    "conf_interval_unknown_sigma = (mean_X - t_value * std_X / np.sqrt(n), mean_X + t_value * std_X / np.sqrt(n))\n",
    "\n",
    "print(\"Интервальная оценка для математического ожидания X (неизвестная дисперсия, формулы):\", conf_interval_unknown_sigma)"
   ],
   "id": "8124be6f79400ba5"
  },
  {
   "metadata": {},
   "cell_type": "code",
   "outputs": [],
   "execution_count": null,
   "source": [
    "conf_interval_unknown_sigma_scipy = stats.t.interval(alpha=gamma, df=n-1, loc=mean_X, scale=std_X/np.sqrt(n))\n",
    "print(\"Интервальная оценка для математического ожидания X (неизвестная дисперсия, scipy):\", conf_interval_unknown_sigma_scipy)"
   ],
   "id": "887ab006c68c0290"
  },
  {
   "metadata": {},
   "cell_type": "markdown",
   "source": "1.3. Интервальная оценка для дисперсии X",
   "id": "a7d5473e604cedb6"
  },
  {
   "metadata": {},
   "cell_type": "code",
   "outputs": [],
   "execution_count": null,
   "source": [
    "chi2_lower = stats.chi2.ppf((1 - gamma) / 2, df=n-1)\n",
    "chi2_upper = stats.chi2.ppf(1 - (1 - gamma) / 2, df=n-1)\n",
    "conf_interval_variance = ((n - 1) * std_X**2 / chi2_upper, (n - 1) * std_X**2 / chi2_lower)\n",
    "\n",
    "print(\"Интервальная оценка для дисперсии X:\", conf_interval_variance)"
   ],
   "id": "88b24fd53bb36cc1"
  },
  {
   "metadata": {},
   "cell_type": "code",
   "outputs": [],
   "execution_count": null,
   "source": "",
   "id": "3283ce6269ca3d95"
  },
  {
   "metadata": {},
   "cell_type": "markdown",
   "source": [
    "\n",
    "2: График зависимости длины доверительного интервала от надежности при неизменном объеме выборки"
   ],
   "id": "a28352c6824449df"
  },
  {
   "metadata": {},
   "cell_type": "code",
   "outputs": [],
   "execution_count": null,
   "source": [
    "gamma_values = np.linspace(0.8, 0.99, 50)\n",
    "interval_lengths_known_sigma = []\n",
    "interval_lengths_unknown_sigma = []\n",
    "interval_lengths_variance = []\n",
    "\n",
    "for gamma in gamma_values:\n",
    "    z = stats.norm.ppf(1 - (1 - gamma) / 2)\n",
    "    t = stats.t.ppf(1 - (1 - gamma) / 2, df=n-1)\n",
    "    chi2_lower = stats.chi2.ppf((1 - gamma) / 2, df=n-1)\n",
    "    chi2_upper = stats.chi2.ppf(1 - (1 - gamma) / 2, df=n-1)\n",
    "    \n",
    "    interval_lengths_known_sigma.append(2 * z * sigma / np.sqrt(n))\n",
    "    interval_lengths_unknown_sigma.append(2 * t * std_X / np.sqrt(n))\n",
    "    interval_lengths_variance.append((n - 1) * std_X**2 * (1/chi2_lower - 1/chi2_upper))\n",
    "\n",
    "plt.figure(figsize=(12, 6))\n",
    "plt.plot(gamma_values, interval_lengths_known_sigma, label=\"Известная дисперсия\")\n",
    "plt.plot(gamma_values, interval_lengths_unknown_sigma, label=\"Неизвестная дисперсия\")\n",
    "plt.plot(gamma_values, interval_lengths_variance, label=\"Дисперсия\")\n",
    "plt.xlabel(\"Надежность (gamma)\")\n",
    "plt.ylabel(\"Длина доверительного интервала\")\n",
    "plt.legend()\n",
    "plt.title(\"Зависимость длины доверительного интервала от надежности\")\n",
    "plt.show()"
   ],
   "id": "1b546f082aabca21"
  },
  {
   "metadata": {},
   "cell_type": "markdown",
   "source": "3: График зависимости длины доверительного интервала от объема выборки при неизменной надежности",
   "id": "dcb28a00c907a84b"
  },
  {
   "metadata": {},
   "cell_type": "code",
   "outputs": [],
   "execution_count": null,
   "source": [
    "n_values = np.arange(5, 100, 5)\n",
    "interv_lengths_known_sigma_n = []\n",
    "interv_lengths_unknown_sigma_n = []\n",
    "interv_lengths_variance_n = []\n",
    "\n",
    "gamma = 0.99\n",
    "\n",
    "for n in n_values:\n",
    "    z = stats.norm.ppf(1 - (1 - gamma) / 2)\n",
    "    t = stats.t.ppf(1 - (1 - gamma) / 2, df=n-1)\n",
    "    chi2_lower = stats.chi2.ppf((1 - gamma) / 2, df=n-1)\n",
    "    chi2_upper = stats.chi2.ppf(1 - (1 - gamma) / 2, df=n-1)\n",
    "    \n",
    "    interv_lengths_known_sigma_n.append(2 * z * sigma / np.sqrt(n))\n",
    "    interv_lengths_unknown_sigma_n.append(2 * t * std_X / np.sqrt(n))\n",
    "    interv_lengths_variance_n.append((n - 1) * std_X**2 * (1/chi2_lower - 1/chi2_upper))\n",
    "\n",
    "plt.figure(figsize=(12, 6))\n",
    "plt.plot(n_values, interv_lengths_known_sigma_n, label=\"Известная дисперсия\")\n",
    "plt.plot(n_values, interv_lengths_unknown_sigma_n, label=\"Неизвестная дисперсия\")\n",
    "plt.plot(n_values, interv_lengths_variance_n, label=\"Дисперсия\")\n",
    "plt.xlabel(\"Объем выборки (n)\")\n",
    "plt.ylabel(\"Длина доверительного интервала\")\n",
    "plt.legend()\n",
    "plt.title(\"Зависимость длины доверительного интервала от объема выборки\")\n",
    "plt.show()"
   ],
   "id": "24f7f05f68f044a2"
  },
  {
   "metadata": {},
   "cell_type": "markdown",
   "source": "4: Моделирование M выборок и оценка надежности",
   "id": "2c3ed406798784b8"
  },
  {
   "metadata": {},
   "cell_type": "code",
   "outputs": [],
   "execution_count": null,
   "source": [
    "gamma_estimates = []\n",
    "\n",
    "for _ in range(K):\n",
    "    inside_count = 0\n",
    "    for _ in range(M):\n",
    "        X = np.random.normal(a, sigma, n)\n",
    "        mean_X = np.mean(X)\n",
    "        std_X = np.std(X, ddof=1)\n",
    "        t = stats.t.ppf(1 - (1 - gamma) / 2, df=n-1)\n",
    "        conf_interval = (mean_X - t * std_X / np.sqrt(n), mean_X + t * std_X / np.sqrt(n))\n",
    "        if conf_interval[0] <= a <= conf_interval[1]:\n",
    "            inside_count += 1\n",
    "    gamma_estimates.append(inside_count / M)\n",
    "\n",
    "gamma_hat = np.mean(gamma_estimates)\n",
    "print(\"Точечная оценка надежности (gamma*):\", gamma_hat)"
   ],
   "id": "a04e9facb54eeccf"
  }
 ],
 "metadata": {
  "kernelspec": {
   "display_name": "Python 3",
   "language": "python",
   "name": "python3"
  },
  "language_info": {
   "codemirror_mode": {
    "name": "ipython",
    "version": 2
   },
   "file_extension": ".py",
   "mimetype": "text/x-python",
   "name": "python",
   "nbconvert_exporter": "python",
   "pygments_lexer": "ipython2",
   "version": "2.7.6"
  }
 },
 "nbformat": 4,
 "nbformat_minor": 5
}
